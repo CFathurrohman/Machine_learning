{
  "nbformat": 4,
  "nbformat_minor": 0,
  "metadata": {
    "colab": {
      "provenance": [],
      "include_colab_link": true
    },
    "kernelspec": {
      "name": "python3",
      "display_name": "Python 3"
    },
    "language_info": {
      "name": "python"
    }
  },
  "cells": [
    {
      "cell_type": "markdown",
      "metadata": {
        "id": "view-in-github",
        "colab_type": "text"
      },
      "source": [
        "<a href=\"https://colab.research.google.com/github/CFathurrohman/Machine_learning/blob/main/Week9/ML_W9_T.ipynb\" target=\"_parent\"><img src=\"https://colab.research.google.com/assets/colab-badge.svg\" alt=\"Open In Colab\"/></a>"
      ]
    },
    {
      "cell_type": "markdown",
      "source": [
        "# Biodata\n",
        "Nama  : Cyndu Fathur Rohman\n",
        "\n",
        "Kelas : TI-3G"
      ],
      "metadata": {
        "id": "qYGMRwkdDTNy"
      }
    },
    {
      "cell_type": "markdown",
      "source": [
        "# Tugas\n",
        "- Lakukan klasifikasi pada data MNIST dengan menggunakan model ANN\n",
        "- Anda diperbolehkan melakukan eksplorasi terhadap,\n",
        "  - Metode pra pengolahan\n",
        "  - Pemilihan fitur\n",
        "  - Arsitektur ANN\n",
        "  - Fungsi Aktiviasi\n",
        "- ANN diimplementasikan dengan menggunakan tensorflow.\n",
        "- DIKERJAKAN SECARA BERKELOMPOK\n",
        "- JELASKAN HASIL YANG ANDA DAPATKAN,\n",
        "  - AKURASI\n",
        "  - CONFUSION MATRIX\n",
        "  - KONFIGURASI MODEL --> MULAI DARI PRA PENGOLAHAN SAMPAI ARSITEKTUR ANN"
      ],
      "metadata": {
        "id": "gpzDHZzVDOPY"
      }
    },
    {
      "cell_type": "markdown",
      "source": [
        "## 1. Import Library\n",
        "Pada langkah ini, kita mengimpor library yang diperlukan untuk membangun model neural network dan melakukan analisis.\n",
        "\n",
        "- TensorFlow: Digunakan untuk membuat dan melatih model neural network.\n",
        "- Sequential: Dari tensorflow.keras.models, digunakan untuk membangun model ANN secara berurutan.\n",
        "- Dense dan Flatten: Dari tensorflow.keras.layers, digunakan untuk mendefinisikan lapisan-lapisan dalam ANN. Dense adalah lapisan yang sepenuhnya terhubung, dan Flatten mengubah input dari bentuk matriks menjadi vektor.\n",
        "- to_categorical: Dari tensorflow.keras.utils, digunakan untuk mengubah label ke dalam bentuk one-hot encoding.\n",
        "- confusion_matrix: Dari sklearn.metrics, digunakan untuk menghitung confusion matrix yang akan membantu kita menilai kinerja model.\n",
        "- classification_report: Dari sklearn.metrics, digunakan untuk mendapatkan pemahaman yang lebih baik tentang kinerja model.\n",
        "- matplotlib.pyplot dan seaborn: Digunakan untuk visualisasi, terutama untuk menggambarkan confusion matrix.\n",
        "- NumPy: Digunakan untuk operasi array dan manipulasi data.\n"
      ],
      "metadata": {
        "id": "kJwmYV5WFU8o"
      }
    },
    {
      "cell_type": "code",
      "execution_count": null,
      "metadata": {
        "id": "XENl_Uxm93CC"
      },
      "outputs": [],
      "source": [
        "import tensorflow as tf\n",
        "from tensorflow.keras.models import Sequential\n",
        "from tensorflow.keras.layers import Dense, Flatten\n",
        "from tensorflow.keras.utils import to_categorical\n",
        "from sklearn.metrics import confusion_matrix\n",
        "from sklearn.metrics import classification_report\n",
        "import matplotlib.pyplot as plt\n",
        "import seaborn as sns\n",
        "import numpy as np\n"
      ]
    },
    {
      "cell_type": "markdown",
      "source": [
        "## 2. Memuat Dataset\n",
        "Kita akan memuat dataset MNIST, yang sudah disediakan dalam TensorFlow. Dataset ini terdiri dari citra angka tulisan tangan (0-9) yang berukuran 28x28 pixel, serta label yang sesuai untuk setiap citra."
      ],
      "metadata": {
        "id": "nYMtHVE4GEWw"
      }
    },
    {
      "cell_type": "code",
      "source": [
        "# Load dataset\n",
        "(x_train, y_train), (x_test, y_test) = tf.keras.datasets.mnist.load_data()\n",
        "\n",
        "# Melihat tipe data dan bentuk dari dataset\n",
        "print(\"Tipe data x_train:\", type(x_train))\n",
        "print(\"Bentuk x_train:\", x_train.shape)\n",
        "print(\"Tipe data y_train:\", type(y_train))\n",
        "print(\"Bentuk y_train:\", y_train.shape)\n",
        "\n",
        "print(\"Tipe data x_test:\", type(x_test))\n",
        "print(\"Bentuk x_test:\", x_test.shape)\n",
        "print(\"Tipe data y_test:\", type(y_test))\n",
        "print(\"Bentuk y_test:\", y_test.shape)\n"
      ],
      "metadata": {
        "colab": {
          "base_uri": "https://localhost:8080/"
        },
        "id": "39GtEJx0973M",
        "outputId": "2548bb0a-c035-4ad5-d085-37ccc4970d69"
      },
      "execution_count": null,
      "outputs": [
        {
          "output_type": "stream",
          "name": "stdout",
          "text": [
            "Tipe data x_train: <class 'numpy.ndarray'>\n",
            "Bentuk x_train: (60000, 28, 28)\n",
            "Tipe data y_train: <class 'numpy.ndarray'>\n",
            "Bentuk y_train: (60000,)\n",
            "Tipe data x_test: <class 'numpy.ndarray'>\n",
            "Bentuk x_test: (10000, 28, 28)\n",
            "Tipe data y_test: <class 'numpy.ndarray'>\n",
            "Bentuk y_test: (10000,)\n"
          ]
        }
      ]
    },
    {
      "cell_type": "markdown",
      "source": [
        "Setelah memuat dataset MNIST, penting untuk memeriksa tipe data dari `x_train` dan `y_train`. Mengetahui tipe data sangat penting karena:\n",
        "\n",
        "- Kesesuaian Data: Memastikan bahwa data berada dalam format yang tepat untuk proses selanjutnya. Misalnya, jika gambar berada dalam format integer, kita mungkin perlu mengonversinya menjadi float untuk normalisasi.\n",
        "- Operasi yang Tepat: Tipe data yang berbeda memengaruhi cara kita melakukan operasi pada data. Mengetahui tipe data membantu kita menentukan fungsi dan metode yang tepat yang dapat digunakan untuk pra-pengolahan.\n",
        "- Desain Model: Tipe data juga memengaruhi pemilihan model dan parameter yang tepat. Sebagai contoh, jika label berupa integer untuk klasifikasi, kita harus menggunakan fungsi loss yang sesuai.\n",
        "- Pencegahan Kesalahan: Memeriksa tipe data terlebih dahulu dapat membantu mengidentifikasi potensi masalah yang bisa muncul saat pelatihan model, seperti kesalahan tipe data yang tidak cocok."
      ],
      "metadata": {
        "id": "VEt1WXwuG3v0"
      }
    },
    {
      "cell_type": "markdown",
      "source": [
        "## 3. Pra-pengolahan dan Pemilihan Fitur\n",
        "Sebelum kita melatih model, kita perlu melakukan beberapa pra-pengolahan data. Kita akan melakukan normalisasi dan mengubah dimensi data.\n",
        "\n",
        "- Normalisasi: Kita membagi nilai pixel (0-255) dengan 255 sehingga nilai pixel menjadi antara 0 dan 1. Ini membantu model untuk belajar lebih cepat dan lebih baik.\n",
        "- Reshape Data: Kita mengubah bentuk data citra dari 28x28 menjadi vektor 1D berukuran 784 untuk setiap citra."
      ],
      "metadata": {
        "id": "9NaY1HBaHF8-"
      }
    },
    {
      "cell_type": "code",
      "source": [
        "x_train = x_train.reshape(-1, 28 * 28).astype('float32') / 255.0  # Mengubah ke bentuk (60000, 784) dan normalisasi\n",
        "x_test = x_test.reshape(-1, 28 * 28).astype('float32') / 255.0    # Mengubah ke bentuk (10000, 784) dan normalisasi"
      ],
      "metadata": {
        "id": "QL8eF_kC98qW"
      },
      "execution_count": null,
      "outputs": []
    },
    {
      "cell_type": "markdown",
      "source": [
        "Normalisasi membantu mengurangi skala variabel dan membuat proses pembelajaran lebih stabil. Mereshape citra menjadi vektor 1D memungkinkan kita untuk memasukkan data ke dalam model ANN yang hanya menerima input vektor.\n",
        "\n",
        "\n",
        "``` python\n",
        "x_train = x_train.reshape(-1, 28 * 28)\n",
        "```\n",
        "\n",
        "- x_train.shape: Ini memberikan informasi tentang dimensi data pelatihan x_train. Untuk dataset MNIST, output dari x_train.shape biasanya akan terlihat seperti (60000, 28, 28), di mana:\n",
        "\n",
        "  - 60000: Jumlah citra dalam dataset pelatihan.\n",
        "  - 28: Tinggi citra dalam pixel.\n",
        "  - 28: Lebar citra dalam pixel.\n",
        "\n",
        "- y_train.shape: Ini memberikan bentuk dari label untuk data pelatihan. Biasanya, outputnya akan seperti (60000,), yang menunjukkan bahwa ada 60.000 label yang sesuai untuk data pelatihan.\n",
        "\n",
        "- x_test.shape: Untuk data pengujian, output biasanya akan terlihat seperti (10000, 28, 28), yang berarti ada 10.000 citra dalam dataset pengujian.\n",
        "\n",
        "``` python\n",
        ".astype('float32') / 255.0\n",
        "```\n",
        "- Setelah mengubah bentuk gambar, kita juga ingin mengubah jenis data menjadi float32. Ini adalah cara komputer menyimpan angka desimal.\n",
        "- Gambar asli biasanya memiliki nilai dari 0 sampai 255 (angka gelap sampai terang). Untuk membantu komputer belajar dengan lebih baik, kita membagi semua nilai tersebut dengan 255.0. Ini akan mengubah nilai-nilai tersebut menjadi antara 0.0 (hitam) dan 1.0 (putih).\n",
        "- Dengan cara ini, model kita dapat belajar dengan lebih baik karena semua data berada dalam rentang yang sama."
      ],
      "metadata": {
        "id": "sdpPmXCAHgu8"
      }
    },
    {
      "cell_type": "markdown",
      "source": [
        "## 4. Membuat dan Mengkomplikasi Model ANN\n",
        "Pada langkah ini, kita mendefinisikan arsitektur model ANN. Model ini akan memiliki beberapa lapisan sebagai berikut:\n",
        "\n",
        "- Input Layer: 784 neuron (untuk mengubah citra berukuran 28x28 pixel menjadi vektor 1D).\n",
        "\n",
        "- Hidden Layers:\n",
        "  - Lapisan Pertama: 128 neuron dengan fungsi aktivasi ReLU, yang memungkinkan model belajar representasi yang lebih kompleks dari data.\n",
        "  -Lapisan Kedua: 64 neuron dengan fungsi aktivasi ReLU, yang juga membantu model dalam mengekstraksi fitur dari data.\n",
        "- Output Layer: 10 neuron (satu untuk setiap digit dari 0 hingga 9) dengan fungsi aktivasi softmax, yang mengeluarkan distribusi probabilitas untuk setiap kelas digit.\n",
        "\n",
        "Setelah model dibuat, kita perlu mengompilasinya. Kita akan menggunakan optimasi Adam dan fungsi loss sparse_categorical_crossentropy. Untuk mempercepat pelatihan, kita akan mengurangi jumlah epoch."
      ],
      "metadata": {
        "id": "vgPU1uAMHh9U"
      }
    },
    {
      "cell_type": "code",
      "source": [
        "# Membuat ANN model\n",
        "model = Sequential([\n",
        "    Flatten(input_shape=(28*28,)),  # Mengubah input citra 28x28 menjadi vektor 1D\n",
        "    Dense(128, activation='relu'),    # Lapisan tersembunyi pertama dengan 128 neuron dan fungsi aktivasi ReLU\n",
        "    Dense(64, activation='relu'),     # Lapisan tersembunyi kedua dengan 64 neuron dan fungsi aktivasi ReLU\n",
        "    Dense(10, activation='softmax')   # Lapisan output dengan 10 neuron (untuk 10 kelas) dan fungsi aktivasi softmax\n",
        "])\n",
        "\n",
        "# Kompilasi model\n",
        "model.compile(optimizer='adam',\n",
        "              loss='sparse_categorical_crossentropy',\n",
        "              metrics=['accuracy'])"
      ],
      "metadata": {
        "colab": {
          "base_uri": "https://localhost:8080/"
        },
        "id": "NnM1CDEj9-_r",
        "outputId": "1fd09a77-0c56-422d-f5f2-d72cdb787ef0"
      },
      "execution_count": null,
      "outputs": [
        {
          "output_type": "stream",
          "name": "stderr",
          "text": [
            "/usr/local/lib/python3.10/dist-packages/keras/src/layers/reshaping/flatten.py:37: UserWarning: Do not pass an `input_shape`/`input_dim` argument to a layer. When using Sequential models, prefer using an `Input(shape)` object as the first layer in the model instead.\n",
            "  super().__init__(**kwargs)\n"
          ]
        }
      ]
    },
    {
      "cell_type": "markdown",
      "source": [
        "Kompilasi model mengkonfigurasi model untuk pelatihan. Kita memilih optimizer Adam karena efisien dalam hal kecepatan dan kinerja. Fungsi loss sparse categorical crossentropy cocok untuk tugas klasifikasi dengan label integer."
      ],
      "metadata": {
        "id": "QvjSJvu4JqjE"
      }
    },
    {
      "cell_type": "markdown",
      "source": [
        "## 5. Pelatihan Model\n",
        "Setelah model dikompilasi, kita melatih model dengan data pelatihan. Kita akan mengatur jumlah epoch menjadi 10 agar pelatihan tidak memakan waktu lama dan bisa lebih akurat."
      ],
      "metadata": {
        "id": "_31TTlv1QA0P"
      }
    },
    {
      "cell_type": "code",
      "source": [
        "# Melatih model\n",
        "history = model.fit(x_train, y_train, epochs=10, validation_split=0.2)\n"
      ],
      "metadata": {
        "colab": {
          "base_uri": "https://localhost:8080/"
        },
        "id": "bAR6wNXu-C7E",
        "outputId": "79956af6-f10e-4bba-8e82-ff21c0be965a"
      },
      "execution_count": null,
      "outputs": [
        {
          "output_type": "stream",
          "name": "stdout",
          "text": [
            "Epoch 1/10\n",
            "\u001b[1m1500/1500\u001b[0m \u001b[32m━━━━━━━━━━━━━━━━━━━━\u001b[0m\u001b[37m\u001b[0m \u001b[1m9s\u001b[0m 5ms/step - accuracy: 0.8681 - loss: 0.4596 - val_accuracy: 0.9550 - val_loss: 0.1560\n",
            "Epoch 2/10\n",
            "\u001b[1m1500/1500\u001b[0m \u001b[32m━━━━━━━━━━━━━━━━━━━━\u001b[0m\u001b[37m\u001b[0m \u001b[1m9s\u001b[0m 4ms/step - accuracy: 0.9652 - loss: 0.1159 - val_accuracy: 0.9692 - val_loss: 0.1097\n",
            "Epoch 3/10\n",
            "\u001b[1m1500/1500\u001b[0m \u001b[32m━━━━━━━━━━━━━━━━━━━━\u001b[0m\u001b[37m\u001b[0m \u001b[1m7s\u001b[0m 5ms/step - accuracy: 0.9764 - loss: 0.0775 - val_accuracy: 0.9682 - val_loss: 0.1052\n",
            "Epoch 4/10\n",
            "\u001b[1m1500/1500\u001b[0m \u001b[32m━━━━━━━━━━━━━━━━━━━━\u001b[0m\u001b[37m\u001b[0m \u001b[1m11s\u001b[0m 5ms/step - accuracy: 0.9821 - loss: 0.0544 - val_accuracy: 0.9719 - val_loss: 0.0923\n",
            "Epoch 5/10\n",
            "\u001b[1m1500/1500\u001b[0m \u001b[32m━━━━━━━━━━━━━━━━━━━━\u001b[0m\u001b[37m\u001b[0m \u001b[1m9s\u001b[0m 4ms/step - accuracy: 0.9870 - loss: 0.0402 - val_accuracy: 0.9770 - val_loss: 0.0854\n",
            "Epoch 6/10\n",
            "\u001b[1m1500/1500\u001b[0m \u001b[32m━━━━━━━━━━━━━━━━━━━━\u001b[0m\u001b[37m\u001b[0m \u001b[1m16s\u001b[0m 8ms/step - accuracy: 0.9898 - loss: 0.0324 - val_accuracy: 0.9721 - val_loss: 0.0955\n",
            "Epoch 7/10\n",
            "\u001b[1m1500/1500\u001b[0m \u001b[32m━━━━━━━━━━━━━━━━━━━━\u001b[0m\u001b[37m\u001b[0m \u001b[1m18s\u001b[0m 6ms/step - accuracy: 0.9923 - loss: 0.0240 - val_accuracy: 0.9709 - val_loss: 0.1059\n",
            "Epoch 8/10\n",
            "\u001b[1m1500/1500\u001b[0m \u001b[32m━━━━━━━━━━━━━━━━━━━━\u001b[0m\u001b[37m\u001b[0m \u001b[1m6s\u001b[0m 4ms/step - accuracy: 0.9941 - loss: 0.0192 - val_accuracy: 0.9744 - val_loss: 0.1042\n",
            "Epoch 9/10\n",
            "\u001b[1m1500/1500\u001b[0m \u001b[32m━━━━━━━━━━━━━━━━━━━━\u001b[0m\u001b[37m\u001b[0m \u001b[1m8s\u001b[0m 5ms/step - accuracy: 0.9926 - loss: 0.0205 - val_accuracy: 0.9765 - val_loss: 0.1027\n",
            "Epoch 10/10\n",
            "\u001b[1m1500/1500\u001b[0m \u001b[32m━━━━━━━━━━━━━━━━━━━━\u001b[0m\u001b[37m\u001b[0m \u001b[1m9s\u001b[0m 5ms/step - accuracy: 0.9941 - loss: 0.0170 - val_accuracy: 0.9736 - val_loss: 0.1159\n"
          ]
        }
      ]
    },
    {
      "cell_type": "markdown",
      "source": [
        "## 6. Prediksi dan Evaluasi Menggunakan Confusion Matrix\n",
        "Setelah model dilatih, langkah selanjutnya adalah melakukan prediksi pada data uji (x_test). Dengan menggunakan model yang sudah dilatih, kita dapat memprediksi label untuk gambar-gambar yang belum pernah dilihat sebelumnya.\n",
        "\n",
        "Setelah melakukan prediksi, kita menghitung confusion matrix untuk mengevaluasi kinerja model. Confusion matrix adalah tabel yang menunjukkan jumlah prediksi yang benar dan salah untuk setiap kelas. Ini terdiri dari:\n",
        "\n",
        "- True Positives (TP): Jumlah kasus di mana model memprediksi kelas dengan benar.\n",
        "- True Negatives (TN): Jumlah kasus di mana model memprediksi kelas yang salah, tetapi sebenarnya adalah negatif.\n",
        "- False Positives (FP): Jumlah kasus di mana model memprediksi kelas positif tetapi sebenarnya adalah negatif.\n",
        "- False Negatives (FN): Jumlah kasus di mana model memprediksi kelas negatif tetapi sebenarnya adalah positif.\n",
        "\n",
        "Dengan informasi ini, kita dapat menghitung metrik evaluasi lainnya, seperti akurasi, precision, recall, dan F1-score. Confusion matrix memberikan wawasan yang lebih dalam tentang bagaimana model berperforma di setiap kelas, membantu kita mengidentifikasi kelas mana yang sulit diprediksi dan area yang mungkin perlu ditingkatkan. Dengan demikian, evaluasi menggunakan confusion matrix adalah langkah penting dalam memahami efektivitas model kita dalam menyelesaikan tugas klasifikasi."
      ],
      "metadata": {
        "id": "r61_xb63QNr2"
      }
    },
    {
      "cell_type": "code",
      "source": [
        "# Evaluasi model\n",
        "test_loss, test_acc = model.evaluate(x_test, y_test, verbose=2)\n",
        "print(f'Test accuracy: {test_acc:.4f}')\n",
        "\n",
        "# Prediksi dan membuat confusion matrix\n",
        "y_pred = np.argmax(model.predict(x_test), axis=1)\n",
        "conf_matrix = confusion_matrix(y_test, y_pred)\n",
        "\n",
        "# Plot Confusion Matrix\n",
        "plt.figure(figsize=(10, 8))\n",
        "sns.heatmap(conf_matrix, annot=True, fmt='d', cmap='Blues')\n",
        "plt.xlabel('Predicted')\n",
        "plt.ylabel('Actual')\n",
        "plt.title('Confusion Matrix')\n",
        "plt.show()\n",
        "\n",
        "# Menghitung prediksi\n",
        "y_pred = np.argmax(model.predict(x_test), axis=1)\n",
        "\n",
        "# Menampilkan Classification report\n",
        "print('Classification Report:')\n",
        "print(classification_report(y_test, y_pred))"
      ],
      "metadata": {
        "colab": {
          "base_uri": "https://localhost:8080/",
          "height": 1000
        },
        "id": "i_CE5v0j-Ea7",
        "outputId": "c8b26843-7f96-4cfb-97a1-70fdc1a7f991"
      },
      "execution_count": null,
      "outputs": [
        {
          "output_type": "stream",
          "name": "stdout",
          "text": [
            "313/313 - 1s - 2ms/step - accuracy: 0.9762 - loss: 0.0961\n",
            "Test accuracy: 0.9762\n",
            "\u001b[1m313/313\u001b[0m \u001b[32m━━━━━━━━━━━━━━━━━━━━\u001b[0m\u001b[37m\u001b[0m \u001b[1m1s\u001b[0m 2ms/step\n"
          ]
        },
        {
          "output_type": "display_data",
          "data": {
            "text/plain": [
              "<Figure size 1000x800 with 2 Axes>"
            ],
            "image/png": "[encoded data removed]"
          },
          "metadata": {}
        },
        {
          "output_type": "stream",
          "name": "stdout",
          "text": [
            "\u001b[1m313/313\u001b[0m \u001b[32m━━━━━━━━━━━━━━━━━━━━\u001b[0m\u001b[37m\u001b[0m \u001b[1m0s\u001b[0m 1ms/step\n",
            "Classification Report:\n",
            "              precision    recall  f1-score   support\n",
            "\n",
            "           0       0.99      0.99      0.99       980\n",
            "           1       0.99      0.99      0.99      1135\n",
            "           2       0.97      0.98      0.98      1032\n",
            "           3       0.95      0.99      0.97      1010\n",
            "           4       0.97      0.98      0.97       982\n",
            "           5       0.98      0.97      0.98       892\n",
            "           6       0.98      0.99      0.98       958\n",
            "           7       0.97      0.98      0.98      1028\n",
            "           8       0.98      0.96      0.97       974\n",
            "           9       0.98      0.94      0.96      1009\n",
            "\n",
            "    accuracy                           0.98     10000\n",
            "   macro avg       0.98      0.98      0.98     10000\n",
            "weighted avg       0.98      0.98      0.98     10000\n",
            "\n"
          ]
        }
      ]
    },
    {
      "cell_type": "markdown",
      "source": [
        "**Hasil yang diperoleh**\n",
        "\n",
        "**Akurasi**\n",
        "\n",
        "Model Artificial Neural Network (ANN) yang dibangun untuk mengklasifikasikan dataset MNIST menunjukkan hasil yang sangat baik. Model mencapai training accuracy sebesar 98% dan test accuracy sebesar 97.62%.\n",
        "\n",
        "**Confusion matrix**\n",
        "\n",
        "Confusion matrix memberikan gambaran yang jelas tentang kinerja model dalam memprediksi kelas digit. Matriks ini menunjukkan jumlah prediksi yang benar dan salah untuk setiap kelas. Dengan nilai precision dan recall yang tinggi di setiap kelas, model menunjukkan kemampuan yang baik dalam mengenali digit tangan, di mana kesalahan yang terjadi sebagian besar merupakan kebingungan antara kelas yang mirip. Confusion matrix dapat digunakan untuk menganalisis area mana yang perlu diperbaiki dalam model.\n",
        "\n",
        "**Konfigurasi Model**\n",
        "\n",
        "Pra-Pengolahan Data: Dataset MNIST dimuat dan diperiksa untuk memastikan kesesuaian format. Data dinormalisasi agar berada dalam rentang [0, 1] dengan membagi nilai piksel dengan 255. Kemudian, data diubah menjadi bentuk yang dapat diproses oleh model.\n",
        "\n",
        "Membangun Model ANN: Model ANN terdiri dari beberapa lapisan:\n",
        "\n",
        "  - Input Layer: Menggunakan lapisan Flatten untuk mengubah input citra berukuran 28x28 piksel menjadi vektor 1D berukuran 784 (28*28).\n",
        "  - Hidden Layers: Terdiri dari dua lapisan Dense, yang pertama memiliki 128 neuron dengan fungsi aktivasi ReLU, dan yang kedua memiliki 64 neuron dengan fungsi aktivasi ReLU.\n",
        "  - Output Layer: Terdiri dari 10 neuron (satu untuk setiap digit 0-9) dengan fungsi aktivasi softmax, yang memberikan probabilitas prediksi untuk setiap kelas.\n",
        "\n",
        "**Kesimpulan**\n",
        "\n",
        "Hasil ini menunjukkan bahwa model tidak hanya berhasil belajar dari data pelatihan tetapi juga mampu menggeneralisasi dengan baik terhadap data uji yang belum pernah dilihat sebelumnya. Dengan nilai precision, recall, dan f1-score yang tinggi di setiap kelas, serta confusion matrix yang menunjukkan performa yang konsisten, model ANN ini membuktikan efektivitasnya dalam tugas klasifikasi citra digit tangan."
      ],
      "metadata": {
        "id": "KSW4kGvGR3co"
      }
    }
  ]
}