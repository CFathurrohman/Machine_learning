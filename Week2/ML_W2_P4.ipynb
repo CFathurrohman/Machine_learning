{
  "cells": [
    {
      "cell_type": "markdown",
      "metadata": {
        "id": "view-in-github",
        "colab_type": "text"
      },
      "source": [
        "<a href=\"https://colab.research.google.com/github/CFathurrohman/Machine_learning/blob/main/Week2/ML_W2_P4.ipynb\" target=\"_parent\"><img src=\"https://colab.research.google.com/assets/colab-badge.svg\" alt=\"Open In Colab\"/></a>"
      ]
    },
    {
      "cell_type": "markdown",
      "metadata": {
        "id": "EGBKgPclakts"
      },
      "source": [
        "Praktikum 4\n",
        "Ekstraksi Fitur Data Tidak Terstruktur"
      ]
    },
    {
      "cell_type": "markdown",
      "metadata": {
        "id": "NvrRWxEybdKT"
      },
      "source": [
        "Langkah 1 - Load Image"
      ]
    },
    {
      "cell_type": "code",
      "source": [
        "from PIL import Image\n",
        "\n",
        "img = Image.open('lenna.png')\n",
        "img.show() # tampilkan gambar\n",
        "display(img) # metode alternatif tampilkan gambar"
      ],
      "metadata": {
        "id": "hnr6h1F2vsW8"
      },
      "execution_count": null,
      "outputs": []
    },
    {
      "cell_type": "markdown",
      "metadata": {
        "id": "0eL0RvRMbhZC"
      },
      "source": [
        "Langkah 2 - Ekstrak Fitur"
      ]
    },
    {
      "cell_type": "code",
      "execution_count": null,
      "metadata": {
        "id": "rT9sKThibdBM"
      },
      "outputs": [],
      "source": [
        "# Ekstrak setiap channel red, green, blue\n",
        "r, g, b = img.split()\n",
        "\n",
        "# Cek panjang ukuran channel red\n",
        "print(len(r.histogram()))\n",
        "\n",
        "# Cetak fitur histogram pada channel red\n",
        "print(r.histogram())"
      ]
    }
  ],
  "metadata": {
    "colab": {
      "provenance": [],
      "authorship_tag": "ABX9TyPngoqAtiNs8auPwO9vePi9",
      "include_colab_link": true
    },
    "kernelspec": {
      "display_name": "Python 3",
      "name": "python3"
    },
    "language_info": {
      "name": "python"
    }
  },
  "nbformat": 4,
  "nbformat_minor": 0
}